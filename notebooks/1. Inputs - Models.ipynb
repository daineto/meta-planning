{
 "cells": [
  {
   "cell_type": "markdown",
   "metadata": {},
   "source": [
    "# Domain Models"
   ]
  },
  {
   "cell_type": "code",
   "execution_count": 1,
   "metadata": {},
   "outputs": [],
   "source": [
    "from meta_planning.parsers import parse_model"
   ]
  },
  {
   "cell_type": "markdown",
   "metadata": {},
   "source": [
    "### Load a model from a file "
   ]
  },
  {
   "cell_type": "code",
   "execution_count": 2,
   "metadata": {},
   "outputs": [],
   "source": [
    "M = parse_model('../src/meta_planning/dataset/blocks/reference')"
   ]
  },
  {
   "cell_type": "markdown",
   "metadata": {},
   "source": [
    "### Elements"
   ]
  },
  {
   "cell_type": "code",
   "execution_count": 9,
   "metadata": {},
   "outputs": [
    {
     "name": "stdout",
     "output_type": "stream",
     "text": [
      "object\n"
     ]
    }
   ],
   "source": [
    "for t in M.types:\n",
    "    print(t)"
   ]
  },
  {
   "cell_type": "code",
   "execution_count": 13,
   "metadata": {},
   "outputs": [
    {
     "name": "stdout",
     "output_type": "stream",
     "text": [
      ":strips\n"
     ]
    }
   ],
   "source": [
    "print(M.requirements)"
   ]
  },
  {
   "cell_type": "code",
   "execution_count": 14,
   "metadata": {},
   "outputs": [
    {
     "name": "stdout",
     "output_type": "stream",
     "text": [
      "(on ?o1 - object ?o2 - object)\n",
      "(ontable ?o1 - object)\n",
      "(clear ?o1 - object)\n",
      "(handempty )\n",
      "(holding ?o1 - object)\n"
     ]
    }
   ],
   "source": [
    "for p in M.predicates:\n",
    "    print(p)"
   ]
  },
  {
   "cell_type": "code",
   "execution_count": 15,
   "metadata": {},
   "outputs": [
    {
     "name": "stdout",
     "output_type": "stream",
     "text": [
      "(:action pick-up\n",
      "\t:parameters (?o1 - object)\n",
      "\t:precondition (and (clear ?o1) (ontable ?o1) (handempty ))\n",
      "\t:effect (and \n",
      "\t\t(not (ontable ?o1))\n",
      "\t\t(not (clear ?o1))\n",
      "\t\t(not (handempty ))\n",
      "\t\t(holding ?o1)\n",
      "\t)\n",
      ")\n",
      "(:action put-down\n",
      "\t:parameters (?o1 - object)\n",
      "\t:precondition (and (holding ?o1))\n",
      "\t:effect (and \n",
      "\t\t(not (holding ?o1))\n",
      "\t\t(clear ?o1)\n",
      "\t\t(handempty )\n",
      "\t\t(ontable ?o1)\n",
      "\t)\n",
      ")\n",
      "(:action stack\n",
      "\t:parameters (?o1 - object ?o2 - object)\n",
      "\t:precondition (and (holding ?o1) (clear ?o2))\n",
      "\t:effect (and \n",
      "\t\t(not (holding ?o1))\n",
      "\t\t(not (clear ?o2))\n",
      "\t\t(clear ?o1)\n",
      "\t\t(handempty )\n",
      "\t\t(on ?o1 ?o2)\n",
      "\t)\n",
      ")\n",
      "(:action unstack\n",
      "\t:parameters (?o1 - object ?o2 - object)\n",
      "\t:precondition (and (on ?o1 ?o2) (clear ?o1) (handempty ))\n",
      "\t:effect (and \n",
      "\t\t(holding ?o1)\n",
      "\t\t(clear ?o2)\n",
      "\t\t(not (clear ?o1))\n",
      "\t\t(not (handempty ))\n",
      "\t\t(not (on ?o1 ?o2))\n",
      "\t)\n",
      ")\n"
     ]
    }
   ],
   "source": [
    "for s in M.schemata:\n",
    "    print(s)"
   ]
  },
  {
   "cell_type": "markdown",
   "metadata": {},
   "source": [
    "### Visualization"
   ]
  },
  {
   "cell_type": "markdown",
   "metadata": {},
   "source": [
    "PDDL encoding"
   ]
  },
  {
   "cell_type": "code",
   "execution_count": 7,
   "metadata": {},
   "outputs": [
    {
     "name": "stdout",
     "output_type": "stream",
     "text": [
      "(define (domain blocks)\n",
      "(:requirements :strips)\n",
      "(:predicates\n",
      "\t(on ?o1 - object ?o2 - object)\n",
      "\t(ontable ?o1 - object)\n",
      "\t(clear ?o1 - object)\n",
      "\t(handempty )\n",
      "\t(holding ?o1 - object)\n",
      ")\n",
      "\n",
      "(:action pick-up\n",
      "\t:parameters (?o1 - object)\n",
      "\t:precondition (and (clear ?o1) (ontable ?o1) (handempty ))\n",
      "\t:effect (and \n",
      "\t\t(not (ontable ?o1))\n",
      "\t\t(not (clear ?o1))\n",
      "\t\t(not (handempty ))\n",
      "\t\t(holding ?o1)\n",
      "\t)\n",
      ")\n",
      "\n",
      "(:action put-down\n",
      "\t:parameters (?o1 - object)\n",
      "\t:precondition (and (holding ?o1))\n",
      "\t:effect (and \n",
      "\t\t(not (holding ?o1))\n",
      "\t\t(clear ?o1)\n",
      "\t\t(handempty )\n",
      "\t\t(ontable ?o1)\n",
      "\t)\n",
      ")\n",
      "\n",
      "(:action stack\n",
      "\t:parameters (?o1 - object ?o2 - object)\n",
      "\t:precondition (and (holding ?o1) (clear ?o2))\n",
      "\t:effect (and \n",
      "\t\t(not (holding ?o1))\n",
      "\t\t(not (clear ?o2))\n",
      "\t\t(clear ?o1)\n",
      "\t\t(handempty )\n",
      "\t\t(on ?o1 ?o2)\n",
      "\t)\n",
      ")\n",
      "\n",
      "(:action unstack\n",
      "\t:parameters (?o1 - object ?o2 - object)\n",
      "\t:precondition (and (on ?o1 ?o2) (clear ?o1) (handempty ))\n",
      "\t:effect (and \n",
      "\t\t(holding ?o1)\n",
      "\t\t(clear ?o2)\n",
      "\t\t(not (clear ?o1))\n",
      "\t\t(not (handempty ))\n",
      "\t\t(not (on ?o1 ?o2))\n",
      "\t)\n",
      "))\n"
     ]
    }
   ],
   "source": [
    "print(M)"
   ]
  },
  {
   "cell_type": "markdown",
   "metadata": {},
   "source": [
    "Propositional encoding"
   ]
  },
  {
   "cell_type": "code",
   "execution_count": 8,
   "metadata": {
    "scrolled": true
   },
   "outputs": [
    {
     "name": "stdout",
     "output_type": "stream",
     "text": [
      "(pre_pick-up_clear_var1 )\n",
      "(pre_pick-up_ontable_var1 )\n",
      "(pre_pick-up_handempty )\n",
      "(eff_pick-up_ontable_var1 )\n",
      "(eff_pick-up_clear_var1 )\n",
      "(eff_pick-up_handempty )\n",
      "(eff_pick-up_holding_var1 )\n",
      "(pre_put-down_holding_var1 )\n",
      "(eff_put-down_holding_var1 )\n",
      "(eff_put-down_clear_var1 )\n",
      "(eff_put-down_handempty )\n",
      "(eff_put-down_ontable_var1 )\n",
      "(pre_stack_holding_var1 )\n",
      "(pre_stack_clear_var2 )\n",
      "(eff_stack_holding_var1 )\n",
      "(eff_stack_clear_var2 )\n",
      "(eff_stack_clear_var1 )\n",
      "(eff_stack_handempty )\n",
      "(eff_stack_on_var1_var2 )\n",
      "(pre_unstack_on_var1_var2 )\n",
      "(pre_unstack_clear_var1 )\n",
      "(pre_unstack_handempty )\n",
      "(eff_unstack_holding_var1 )\n",
      "(eff_unstack_clear_var2 )\n",
      "(eff_unstack_clear_var1 )\n",
      "(eff_unstack_handempty )\n",
      "(eff_unstack_on_var1_var2 )\n"
     ]
    }
   ],
   "source": [
    "for p in M.propositional_encoding():\n",
    "    print(p)"
   ]
  },
  {
   "cell_type": "code",
   "execution_count": null,
   "metadata": {},
   "outputs": [],
   "source": [
    "# Borrar elementos"
   ]
  }
 ],
 "metadata": {
  "kernelspec": {
   "display_name": "meta-planning",
   "language": "python",
   "name": "meta-planning"
  },
  "language_info": {
   "codemirror_mode": {
    "name": "ipython",
    "version": 3
   },
   "file_extension": ".py",
   "mimetype": "text/x-python",
   "name": "python",
   "nbconvert_exporter": "python",
   "pygments_lexer": "ipython3",
   "version": "3.6.3"
  }
 },
 "nbformat": 4,
 "nbformat_minor": 2
}
