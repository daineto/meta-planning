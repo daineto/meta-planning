{
 "cells": [
  {
   "cell_type": "code",
   "execution_count": 1,
   "metadata": {},
   "outputs": [],
   "source": [
    "from meta_planning.parsers import parse_trajectory, parse_model"
   ]
  },
  {
   "cell_type": "markdown",
   "metadata": {},
   "source": [
    "# Trajectories"
   ]
  },
  {
   "cell_type": "markdown",
   "metadata": {},
   "source": [
    "### Loading a trajectory from a file"
   ]
  },
  {
   "cell_type": "code",
   "execution_count": 2,
   "metadata": {},
   "outputs": [],
   "source": [
    "M = parse_model('../src/meta_planning/dataset/blocks/reference')"
   ]
  },
  {
   "cell_type": "code",
   "execution_count": 3,
   "metadata": {},
   "outputs": [],
   "source": [
    "t = parse_trajectory('../src/meta_planning/dataset/blocks/trajectory-01', M)"
   ]
  },
  {
   "cell_type": "markdown",
   "metadata": {},
   "source": [
    "### Visualization"
   ]
  },
  {
   "cell_type": "code",
   "execution_count": 4,
   "metadata": {
    "scrolled": true
   },
   "outputs": [
    {
     "name": "stdout",
     "output_type": "stream",
     "text": [
      "(trajectory\n",
      "\n",
      "(:objects e - object b - object f - object d - object c - object g - object a - object)\n",
      "\n",
      "(:state (clear a) (clear b) (clear c) (clear d) (clear e) (not (clear f)) (not (clear g)) (handempty ) (not (holding a)) (not (holding b)) (not (holding c)) (not (holding d)) (not (holding e)) (not (holding f)) (not (holding g)) (not (on a a)) (not (on a b)) (not (on a c)) (not (on a d)) (not (on a e)) (not (on a f)) (on a g) (not (on b a)) (not (on b b)) (not (on b c)) (not (on b d)) (not (on b e)) (not (on b f)) (not (on b g)) (not (on c a)) (not (on c b)) (not (on c c)) (not (on c d)) (not (on c e)) (not (on c f)) (not (on c g)) (not (on d a)) (not (on d b)) (not (on d c)) (not (on d d)) (not (on d e)) (not (on d f)) (not (on d g)) (not (on e a)) (not (on e b)) (not (on e c)) (not (on e d)) (not (on e e)) (on e f) (not (on e g)) (not (on f a)) (not (on f b)) (not (on f c)) (not (on f d)) (not (on f e)) (not (on f f)) (not (on f g)) (not (on g a)) (not (on g b)) (not (on g c)) (not (on g d)) (not (on g e)) (not (on g f)) (not (on g g)) (not (ontable a)) (ontable b) (ontable c) (ontable d) (not (ontable e)) (ontable f) (ontable g))\n",
      "\n",
      "(:action (unstack e f))\n",
      "\n",
      "(:state (clear a) (clear b) (clear c) (clear d) (not (clear e)) (clear f) (not (clear g)) (not (handempty )) (not (holding a)) (not (holding b)) (not (holding c)) (not (holding d)) (holding e) (not (holding f)) (not (holding g)) (not (on a a)) (not (on a b)) (not (on a c)) (not (on a d)) (not (on a e)) (not (on a f)) (on a g) (not (on b a)) (not (on b b)) (not (on b c)) (not (on b d)) (not (on b e)) (not (on b f)) (not (on b g)) (not (on c a)) (not (on c b)) (not (on c c)) (not (on c d)) (not (on c e)) (not (on c f)) (not (on c g)) (not (on d a)) (not (on d b)) (not (on d c)) (not (on d d)) (not (on d e)) (not (on d f)) (not (on d g)) (not (on e a)) (not (on e b)) (not (on e c)) (not (on e d)) (not (on e e)) (not (on e f)) (not (on e g)) (not (on f a)) (not (on f b)) (not (on f c)) (not (on f d)) (not (on f e)) (not (on f f)) (not (on f g)) (not (on g a)) (not (on g b)) (not (on g c)) (not (on g d)) (not (on g e)) (not (on g f)) (not (on g g)) (not (ontable a)) (ontable b) (ontable c) (ontable d) (not (ontable e)) (ontable f) (ontable g))\n",
      "\n",
      "(:action (put-down e))\n",
      "\n",
      "(:state (clear a) (clear b) (clear c) (clear d) (clear e) (clear f) (not (clear g)) (handempty ) (not (holding a)) (not (holding b)) (not (holding c)) (not (holding d)) (not (holding e)) (not (holding f)) (not (holding g)) (not (on a a)) (not (on a b)) (not (on a c)) (not (on a d)) (not (on a e)) (not (on a f)) (on a g) (not (on b a)) (not (on b b)) (not (on b c)) (not (on b d)) (not (on b e)) (not (on b f)) (not (on b g)) (not (on c a)) (not (on c b)) (not (on c c)) (not (on c d)) (not (on c e)) (not (on c f)) (not (on c g)) (not (on d a)) (not (on d b)) (not (on d c)) (not (on d d)) (not (on d e)) (not (on d f)) (not (on d g)) (not (on e a)) (not (on e b)) (not (on e c)) (not (on e d)) (not (on e e)) (not (on e f)) (not (on e g)) (not (on f a)) (not (on f b)) (not (on f c)) (not (on f d)) (not (on f e)) (not (on f f)) (not (on f g)) (not (on g a)) (not (on g b)) (not (on g c)) (not (on g d)) (not (on g e)) (not (on g f)) (not (on g g)) (not (ontable a)) (ontable b) (ontable c) (ontable d) (ontable e) (ontable f) (ontable g))\n",
      "\n",
      "(:action (unstack a g))\n",
      "\n",
      "(:state (not (clear a)) (clear b) (clear c) (clear d) (clear e) (clear f) (clear g) (not (handempty )) (holding a) (not (holding b)) (not (holding c)) (not (holding d)) (not (holding e)) (not (holding f)) (not (holding g)) (not (on a a)) (not (on a b)) (not (on a c)) (not (on a d)) (not (on a e)) (not (on a f)) (not (on a g)) (not (on b a)) (not (on b b)) (not (on b c)) (not (on b d)) (not (on b e)) (not (on b f)) (not (on b g)) (not (on c a)) (not (on c b)) (not (on c c)) (not (on c d)) (not (on c e)) (not (on c f)) (not (on c g)) (not (on d a)) (not (on d b)) (not (on d c)) (not (on d d)) (not (on d e)) (not (on d f)) (not (on d g)) (not (on e a)) (not (on e b)) (not (on e c)) (not (on e d)) (not (on e e)) (not (on e f)) (not (on e g)) (not (on f a)) (not (on f b)) (not (on f c)) (not (on f d)) (not (on f e)) (not (on f f)) (not (on f g)) (not (on g a)) (not (on g b)) (not (on g c)) (not (on g d)) (not (on g e)) (not (on g f)) (not (on g g)) (not (ontable a)) (ontable b) (ontable c) (ontable d) (ontable e) (ontable f) (ontable g))\n",
      "\n",
      "(:action (stack a g))\n",
      "\n",
      "(:state (clear a) (clear b) (clear c) (clear d) (clear e) (clear f) (not (clear g)) (handempty ) (not (holding a)) (not (holding b)) (not (holding c)) (not (holding d)) (not (holding e)) (not (holding f)) (not (holding g)) (not (on a a)) (not (on a b)) (not (on a c)) (not (on a d)) (not (on a e)) (not (on a f)) (on a g) (not (on b a)) (not (on b b)) (not (on b c)) (not (on b d)) (not (on b e)) (not (on b f)) (not (on b g)) (not (on c a)) (not (on c b)) (not (on c c)) (not (on c d)) (not (on c e)) (not (on c f)) (not (on c g)) (not (on d a)) (not (on d b)) (not (on d c)) (not (on d d)) (not (on d e)) (not (on d f)) (not (on d g)) (not (on e a)) (not (on e b)) (not (on e c)) (not (on e d)) (not (on e e)) (not (on e f)) (not (on e g)) (not (on f a)) (not (on f b)) (not (on f c)) (not (on f d)) (not (on f e)) (not (on f f)) (not (on f g)) (not (on g a)) (not (on g b)) (not (on g c)) (not (on g d)) (not (on g e)) (not (on g f)) (not (on g g)) (not (ontable a)) (ontable b) (ontable c) (ontable d) (ontable e) (ontable f) (ontable g))\n",
      "\n",
      "(:action (unstack a g))\n",
      "\n",
      "(:state (not (clear a)) (clear b) (clear c) (clear d) (clear e) (clear f) (clear g) (not (handempty )) (holding a) (not (holding b)) (not (holding c)) (not (holding d)) (not (holding e)) (not (holding f)) (not (holding g)) (not (on a a)) (not (on a b)) (not (on a c)) (not (on a d)) (not (on a e)) (not (on a f)) (not (on a g)) (not (on b a)) (not (on b b)) (not (on b c)) (not (on b d)) (not (on b e)) (not (on b f)) (not (on b g)) (not (on c a)) (not (on c b)) (not (on c c)) (not (on c d)) (not (on c e)) (not (on c f)) (not (on c g)) (not (on d a)) (not (on d b)) (not (on d c)) (not (on d d)) (not (on d e)) (not (on d f)) (not (on d g)) (not (on e a)) (not (on e b)) (not (on e c)) (not (on e d)) (not (on e e)) (not (on e f)) (not (on e g)) (not (on f a)) (not (on f b)) (not (on f c)) (not (on f d)) (not (on f e)) (not (on f f)) (not (on f g)) (not (on g a)) (not (on g b)) (not (on g c)) (not (on g d)) (not (on g e)) (not (on g f)) (not (on g g)) (not (ontable a)) (ontable b) (ontable c) (ontable d) (ontable e) (ontable f) (ontable g))\n",
      "\n",
      "(:action (put-down a))\n",
      "\n",
      "(:state (clear a) (clear b) (clear c) (clear d) (clear e) (clear f) (clear g) (handempty ) (not (holding a)) (not (holding b)) (not (holding c)) (not (holding d)) (not (holding e)) (not (holding f)) (not (holding g)) (not (on a a)) (not (on a b)) (not (on a c)) (not (on a d)) (not (on a e)) (not (on a f)) (not (on a g)) (not (on b a)) (not (on b b)) (not (on b c)) (not (on b d)) (not (on b e)) (not (on b f)) (not (on b g)) (not (on c a)) (not (on c b)) (not (on c c)) (not (on c d)) (not (on c e)) (not (on c f)) (not (on c g)) (not (on d a)) (not (on d b)) (not (on d c)) (not (on d d)) (not (on d e)) (not (on d f)) (not (on d g)) (not (on e a)) (not (on e b)) (not (on e c)) (not (on e d)) (not (on e e)) (not (on e f)) (not (on e g)) (not (on f a)) (not (on f b)) (not (on f c)) (not (on f d)) (not (on f e)) (not (on f f)) (not (on f g)) (not (on g a)) (not (on g b)) (not (on g c)) (not (on g d)) (not (on g e)) (not (on g f)) (not (on g g)) (ontable a) (ontable b) (ontable c) (ontable d) (ontable e) (ontable f) (ontable g))\n",
      "\n",
      "(:action (pick-up a))\n",
      "\n",
      "(:state (not (clear a)) (clear b) (clear c) (clear d) (clear e) (clear f) (clear g) (not (handempty )) (holding a) (not (holding b)) (not (holding c)) (not (holding d)) (not (holding e)) (not (holding f)) (not (holding g)) (not (on a a)) (not (on a b)) (not (on a c)) (not (on a d)) (not (on a e)) (not (on a f)) (not (on a g)) (not (on b a)) (not (on b b)) (not (on b c)) (not (on b d)) (not (on b e)) (not (on b f)) (not (on b g)) (not (on c a)) (not (on c b)) (not (on c c)) (not (on c d)) (not (on c e)) (not (on c f)) (not (on c g)) (not (on d a)) (not (on d b)) (not (on d c)) (not (on d d)) (not (on d e)) (not (on d f)) (not (on d g)) (not (on e a)) (not (on e b)) (not (on e c)) (not (on e d)) (not (on e e)) (not (on e f)) (not (on e g)) (not (on f a)) (not (on f b)) (not (on f c)) (not (on f d)) (not (on f e)) (not (on f f)) (not (on f g)) (not (on g a)) (not (on g b)) (not (on g c)) (not (on g d)) (not (on g e)) (not (on g f)) (not (on g g)) (not (ontable a)) (ontable b) (ontable c) (ontable d) (ontable e) (ontable f) (ontable g))\n",
      "\n",
      "(:action (put-down a))\n",
      "\n",
      "(:state (clear a) (clear b) (clear c) (clear d) (clear e) (clear f) (clear g) (handempty ) (not (holding a)) (not (holding b)) (not (holding c)) (not (holding d)) (not (holding e)) (not (holding f)) (not (holding g)) (not (on a a)) (not (on a b)) (not (on a c)) (not (on a d)) (not (on a e)) (not (on a f)) (not (on a g)) (not (on b a)) (not (on b b)) (not (on b c)) (not (on b d)) (not (on b e)) (not (on b f)) (not (on b g)) (not (on c a)) (not (on c b)) (not (on c c)) (not (on c d)) (not (on c e)) (not (on c f)) (not (on c g)) (not (on d a)) (not (on d b)) (not (on d c)) (not (on d d)) (not (on d e)) (not (on d f)) (not (on d g)) (not (on e a)) (not (on e b)) (not (on e c)) (not (on e d)) (not (on e e)) (not (on e f)) (not (on e g)) (not (on f a)) (not (on f b)) (not (on f c)) (not (on f d)) (not (on f e)) (not (on f f)) (not (on f g)) (not (on g a)) (not (on g b)) (not (on g c)) (not (on g d)) (not (on g e)) (not (on g f)) (not (on g g)) (ontable a) (ontable b) (ontable c) (ontable d) (ontable e) (ontable f) (ontable g))\n",
      "\n",
      "(:action (pick-up b))\n",
      "\n",
      "(:state (clear a) (not (clear b)) (clear c) (clear d) (clear e) (clear f) (clear g) (not (handempty )) (not (holding a)) (holding b) (not (holding c)) (not (holding d)) (not (holding e)) (not (holding f)) (not (holding g)) (not (on a a)) (not (on a b)) (not (on a c)) (not (on a d)) (not (on a e)) (not (on a f)) (not (on a g)) (not (on b a)) (not (on b b)) (not (on b c)) (not (on b d)) (not (on b e)) (not (on b f)) (not (on b g)) (not (on c a)) (not (on c b)) (not (on c c)) (not (on c d)) (not (on c e)) (not (on c f)) (not (on c g)) (not (on d a)) (not (on d b)) (not (on d c)) (not (on d d)) (not (on d e)) (not (on d f)) (not (on d g)) (not (on e a)) (not (on e b)) (not (on e c)) (not (on e d)) (not (on e e)) (not (on e f)) (not (on e g)) (not (on f a)) (not (on f b)) (not (on f c)) (not (on f d)) (not (on f e)) (not (on f f)) (not (on f g)) (not (on g a)) (not (on g b)) (not (on g c)) (not (on g d)) (not (on g e)) (not (on g f)) (not (on g g)) (ontable a) (not (ontable b)) (ontable c) (ontable d) (ontable e) (ontable f) (ontable g))\n",
      "\n",
      "(:action (put-down b))\n",
      "\n",
      "(:state (clear a) (clear b) (clear c) (clear d) (clear e) (clear f) (clear g) (handempty ) (not (holding a)) (not (holding b)) (not (holding c)) (not (holding d)) (not (holding e)) (not (holding f)) (not (holding g)) (not (on a a)) (not (on a b)) (not (on a c)) (not (on a d)) (not (on a e)) (not (on a f)) (not (on a g)) (not (on b a)) (not (on b b)) (not (on b c)) (not (on b d)) (not (on b e)) (not (on b f)) (not (on b g)) (not (on c a)) (not (on c b)) (not (on c c)) (not (on c d)) (not (on c e)) (not (on c f)) (not (on c g)) (not (on d a)) (not (on d b)) (not (on d c)) (not (on d d)) (not (on d e)) (not (on d f)) (not (on d g)) (not (on e a)) (not (on e b)) (not (on e c)) (not (on e d)) (not (on e e)) (not (on e f)) (not (on e g)) (not (on f a)) (not (on f b)) (not (on f c)) (not (on f d)) (not (on f e)) (not (on f f)) (not (on f g)) (not (on g a)) (not (on g b)) (not (on g c)) (not (on g d)) (not (on g e)) (not (on g f)) (not (on g g)) (ontable a) (ontable b) (ontable c) (ontable d) (ontable e) (ontable f) (ontable g)))\n"
     ]
    }
   ],
   "source": [
    "print(t)"
   ]
  },
  {
   "cell_type": "code",
   "execution_count": 5,
   "metadata": {
    "scrolled": false
   },
   "outputs": [
    {
     "name": "stdout",
     "output_type": "stream",
     "text": [
      "(trajectory\n",
      "\n",
      "(:objects e - object b - object f - object d - object c - object g - object a - object)\n",
      "\n",
      "(:state (clear a) (clear b) (clear c) (clear d) (clear e) (handempty ) (on a g) (on e f) (ontable b) (ontable c) (ontable d) (ontable f) (ontable g))\n",
      "\n",
      "(:action (unstack e f))\n",
      "\n",
      "(:state (clear a) (clear b) (clear c) (clear d) (clear f) (holding e) (on a g) (ontable b) (ontable c) (ontable d) (ontable f) (ontable g))\n",
      "\n",
      "(:action (put-down e))\n",
      "\n",
      "(:state (clear a) (clear b) (clear c) (clear d) (clear e) (clear f) (handempty ) (on a g) (ontable b) (ontable c) (ontable d) (ontable e) (ontable f) (ontable g))\n",
      "\n",
      "(:action (unstack a g))\n",
      "\n",
      "(:state (clear b) (clear c) (clear d) (clear e) (clear f) (clear g) (holding a) (ontable b) (ontable c) (ontable d) (ontable e) (ontable f) (ontable g))\n",
      "\n",
      "(:action (stack a g))\n",
      "\n",
      "(:state (clear a) (clear b) (clear c) (clear d) (clear e) (clear f) (handempty ) (on a g) (ontable b) (ontable c) (ontable d) (ontable e) (ontable f) (ontable g))\n",
      "\n",
      "(:action (unstack a g))\n",
      "\n",
      "(:state (clear b) (clear c) (clear d) (clear e) (clear f) (clear g) (holding a) (ontable b) (ontable c) (ontable d) (ontable e) (ontable f) (ontable g))\n",
      "\n",
      "(:action (put-down a))\n",
      "\n",
      "(:state (clear a) (clear b) (clear c) (clear d) (clear e) (clear f) (clear g) (handempty ) (ontable a) (ontable b) (ontable c) (ontable d) (ontable e) (ontable f) (ontable g))\n",
      "\n",
      "(:action (pick-up a))\n",
      "\n",
      "(:state (clear b) (clear c) (clear d) (clear e) (clear f) (clear g) (holding a) (ontable b) (ontable c) (ontable d) (ontable e) (ontable f) (ontable g))\n",
      "\n",
      "(:action (put-down a))\n",
      "\n",
      "(:state (clear a) (clear b) (clear c) (clear d) (clear e) (clear f) (clear g) (handempty ) (ontable a) (ontable b) (ontable c) (ontable d) (ontable e) (ontable f) (ontable g))\n",
      "\n",
      "(:action (pick-up b))\n",
      "\n",
      "(:state (clear a) (clear c) (clear d) (clear e) (clear f) (clear g) (holding b) (ontable a) (ontable c) (ontable d) (ontable e) (ontable f) (ontable g))\n",
      "\n",
      "(:action (put-down b))\n",
      "\n",
      "(:state (clear a) (clear b) (clear c) (clear d) (clear e) (clear f) (clear g) (handempty ) (ontable a) (ontable b) (ontable c) (ontable d) (ontable e) (ontable f) (ontable g)))\n"
     ]
    }
   ],
   "source": [
    "print(t.to_close_world())"
   ]
  },
  {
   "cell_type": "markdown",
   "metadata": {},
   "source": [
    "# Observations"
   ]
  },
  {
   "cell_type": "markdown",
   "metadata": {},
   "source": [
    "### Load from a file"
   ]
  },
  {
   "cell_type": "code",
   "execution_count": 6,
   "metadata": {},
   "outputs": [],
   "source": [
    "# TODO\n",
    "# o = parse_observation('../src/meta_planning/dataset/blocks/observation-01')"
   ]
  },
  {
   "cell_type": "markdown",
   "metadata": {},
   "source": [
    "### Generate observations from trajectories"
   ]
  },
  {
   "cell_type": "code",
   "execution_count": 7,
   "metadata": {},
   "outputs": [
    {
     "name": "stdout",
     "output_type": "stream",
     "text": [
      "(observation\n",
      "\n",
      "(:objects e - object b - object f - object d - object c - object g - object a - object)\n",
      "\n",
      "(:state (clear a) (clear b) (clear c) (clear d) (clear e) (not (clear f)) (not (clear g)) (handempty ) (not (holding a)) (not (holding b)) (not (holding c)) (not (holding d)) (not (holding e)) (not (holding f)) (not (holding g)) (not (on a a)) (not (on a b)) (not (on a c)) (not (on a d)) (not (on a e)) (not (on a f)) (on a g) (not (on b a)) (not (on b b)) (not (on b c)) (not (on b d)) (not (on b e)) (not (on b f)) (not (on b g)) (not (on c a)) (not (on c b)) (not (on c c)) (not (on c d)) (not (on c e)) (not (on c f)) (not (on c g)) (not (on d a)) (not (on d b)) (not (on d c)) (not (on d d)) (not (on d e)) (not (on d f)) (not (on d g)) (not (on e a)) (not (on e b)) (not (on e c)) (not (on e d)) (not (on e e)) (on e f) (not (on e g)) (not (on f a)) (not (on f b)) (not (on f c)) (not (on f d)) (not (on f e)) (not (on f f)) (not (on f g)) (not (on g a)) (not (on g b)) (not (on g c)) (not (on g d)) (not (on g e)) (not (on g f)) (not (on g g)) (not (ontable a)) (ontable b) (ontable c) (ontable d) (not (ontable e)) (ontable f) (ontable g))\n",
      "\n",
      "(:action (unstack e f))\n",
      "\n",
      "(:state (not (on c a)))\n",
      "\n",
      "(:action (put-down e))\n",
      "\n",
      "(:state (not (on e a)))\n",
      "\n",
      "(:action (unstack a g))\n",
      "\n",
      "(:state (not (on f g)))\n",
      "\n",
      "(:action (stack a g))\n",
      "\n",
      "(:state (clear d))\n",
      "\n",
      "(:action (unstack a g))\n",
      "\n",
      "(:state (not (handempty )))\n",
      "\n",
      "(:action (put-down a))\n",
      "\n",
      "(:state (not (holding d)))\n",
      "\n",
      "(:action (pick-up a))\n",
      "\n",
      "(:state (not (on f b)))\n",
      "\n",
      "(:action (put-down a))\n",
      "\n",
      "(:state (ontable c))\n",
      "\n",
      "(:action (pick-up b))\n",
      "\n",
      "(:state (not (on e c)))\n",
      "\n",
      "(:action (put-down b))\n",
      "\n",
      "(:state (clear b) (clear c) (clear d) (clear e) (clear f) (clear g) (not (holding g)) (not (on b a)) (not (on b b)) (not (on c f)) (not (on d a)) (not (on d g)) (not (on g c)) (not (on g e))))\n"
     ]
    }
   ],
   "source": [
    "o = t.observe(0, action_observability=1, goal_observability=0.2, keep_every_state=True)\n",
    "\n",
    "print(o)"
   ]
  },
  {
   "cell_type": "markdown",
   "metadata": {},
   "source": [
    "### Properties"
   ]
  },
  {
   "cell_type": "code",
   "execution_count": 8,
   "metadata": {},
   "outputs": [
    {
     "name": "stdout",
     "output_type": "stream",
     "text": [
      "Number of states: 11\n",
      "Number of actions: 10\n",
      "Bounded: True\n"
     ]
    }
   ],
   "source": [
    "print(\"Number of states: %s\" % o.number_of_states)\n",
    "print(\"Number of actions: %s\" % o.number_of_actions)\n",
    "print(\"Bounded: %s\" % o.bounded)"
   ]
  }
 ],
 "metadata": {
  "kernelspec": {
   "display_name": "meta-planning",
   "language": "python",
   "name": "meta-planning"
  },
  "language_info": {
   "codemirror_mode": {
    "name": "ipython",
    "version": 3
   },
   "file_extension": ".py",
   "mimetype": "text/x-python",
   "name": "python",
   "nbconvert_exporter": "python",
   "pygments_lexer": "ipython3",
   "version": "3.6.8"
  }
 },
 "nbformat": 4,
 "nbformat_minor": 2
}
