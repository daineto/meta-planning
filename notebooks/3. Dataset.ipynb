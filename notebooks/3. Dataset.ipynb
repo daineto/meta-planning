{
 "cells": [
  {
   "cell_type": "code",
   "execution_count": 1,
   "metadata": {},
   "outputs": [],
   "source": [
    "from meta_planning import dataset"
   ]
  },
  {
   "cell_type": "code",
   "execution_count": 2,
   "metadata": {},
   "outputs": [
    {
     "name": "stdout",
     "output_type": "stream",
     "text": [
      "Learning domains:\n",
      "\t blocks\n",
      "\t driverlog\n",
      "\t ferry\n",
      "\t floortile\n",
      "\t grid\n",
      "\t gripper\n",
      "\t hanoi\n",
      "\t miconic\n",
      "\t npuzzle\n",
      "\t parking\n",
      "\t rovers\n",
      "\t satellite\n",
      "\t transport\n",
      "\t visitall\n",
      "\t zenotravel\n",
      "\n",
      "Recognition domains:\n",
      "\t Group 0: nondet-blocks-A, nondet-blocks-B, nondet-blocks-C\n"
     ]
    }
   ],
   "source": [
    "dataset.list_domains()"
   ]
  },
  {
   "cell_type": "code",
   "execution_count": 3,
   "metadata": {},
   "outputs": [],
   "source": [
    "M = dataset.load_model(\"blocks\")"
   ]
  },
  {
   "cell_type": "code",
   "execution_count": 4,
   "metadata": {},
   "outputs": [
    {
     "name": "stdout",
     "output_type": "stream",
     "text": [
      "(define (domain blocks)\n",
      "(:requirements :strips)\n",
      "(:predicates\n",
      "\t(on ?o1 - object ?o2 - object)\n",
      "\t(ontable ?o1 - object)\n",
      "\t(clear ?o1 - object)\n",
      "\t(handempty )\n",
      "\t(holding ?o1 - object)\n",
      ")\n",
      "\n",
      "(:action pick-up\n",
      "\t:parameters (?o1 - object)\n",
      "\t:precondition (and (clear ?o1) (ontable ?o1) (handempty ))\n",
      "\t:effect (and \n",
      "\t\t(not (ontable ?o1))\n",
      "\t\t(not (clear ?o1))\n",
      "\t\t(not (handempty ))\n",
      "\t\t(holding ?o1)\n",
      "\t)\n",
      ")\n",
      "\n",
      "(:action put-down\n",
      "\t:parameters (?o1 - object)\n",
      "\t:precondition (and (holding ?o1))\n",
      "\t:effect (and \n",
      "\t\t(not (holding ?o1))\n",
      "\t\t(clear ?o1)\n",
      "\t\t(handempty )\n",
      "\t\t(ontable ?o1)\n",
      "\t)\n",
      ")\n",
      "\n",
      "(:action stack\n",
      "\t:parameters (?o1 - object ?o2 - object)\n",
      "\t:precondition (and (holding ?o1) (clear ?o2))\n",
      "\t:effect (and \n",
      "\t\t(not (holding ?o1))\n",
      "\t\t(not (clear ?o2))\n",
      "\t\t(clear ?o1)\n",
      "\t\t(handempty )\n",
      "\t\t(on ?o1 ?o2)\n",
      "\t)\n",
      ")\n",
      "\n",
      "(:action unstack\n",
      "\t:parameters (?o1 - object ?o2 - object)\n",
      "\t:precondition (and (on ?o1 ?o2) (clear ?o1) (handempty ))\n",
      "\t:effect (and \n",
      "\t\t(holding ?o1)\n",
      "\t\t(clear ?o2)\n",
      "\t\t(not (clear ?o1))\n",
      "\t\t(not (handempty ))\n",
      "\t\t(not (on ?o1 ?o2))\n",
      "\t)\n",
      "))\n"
     ]
    }
   ],
   "source": [
    "print(M)"
   ]
  },
  {
   "cell_type": "code",
   "execution_count": 5,
   "metadata": {},
   "outputs": [],
   "source": [
    "MO = M.observe(precondition_observability=0.5, effect_observability=0.2)"
   ]
  },
  {
   "cell_type": "code",
   "execution_count": 6,
   "metadata": {},
   "outputs": [
    {
     "name": "stdout",
     "output_type": "stream",
     "text": [
      "(define (domain blocks)\n",
      "(:requirements :strips)\n",
      "(:predicates\n",
      "\t(on ?o1 - object ?o2 - object)\n",
      "\t(ontable ?o1 - object)\n",
      "\t(clear ?o1 - object)\n",
      "\t(handempty )\n",
      "\t(holding ?o1 - object)\n",
      ")\n",
      "\n",
      "(:action pick-up\n",
      "\t:parameters (?o1 - object)\n",
      "\t:precondition (and (handempty ))\n",
      "\t:effect (and \n",
      "\t)\n",
      ")\n",
      "\n",
      "(:action put-down\n",
      "\t:parameters (?o1 - object)\n",
      "\t:precondition (and (holding ?o1))\n",
      "\t:effect (and \n",
      "\t\t(not (holding ?o1))\n",
      "\t\t(clear ?o1)\n",
      "\t\t(ontable ?o1)\n",
      "\t)\n",
      ")\n",
      "\n",
      "(:action stack\n",
      "\t:parameters (?o1 - object ?o2 - object)\n",
      "\t:precondition (and )\n",
      "\t:effect (and \n",
      "\t\t(not (clear ?o2))\n",
      "\t)\n",
      ")\n",
      "\n",
      "(:action unstack\n",
      "\t:parameters (?o1 - object ?o2 - object)\n",
      "\t:precondition (and )\n",
      "\t:effect (and \n",
      "\t\t(not (on ?o1 ?o2))\n",
      "\t)\n",
      "))\n"
     ]
    }
   ],
   "source": [
    "print(MO)"
   ]
  },
  {
   "cell_type": "code",
   "execution_count": 7,
   "metadata": {},
   "outputs": [],
   "source": [
    "T = dataset.load_trajectories(\"blocks\", select=[1,3,5])"
   ]
  }
 ],
 "metadata": {
  "kernelspec": {
   "display_name": "meta-planning",
   "language": "python",
   "name": "meta-planning"
  },
  "language_info": {
   "codemirror_mode": {
    "name": "ipython",
    "version": 3
   },
   "file_extension": ".py",
   "mimetype": "text/x-python",
   "name": "python",
   "nbconvert_exporter": "python",
   "pygments_lexer": "ipython3",
   "version": "3.6.8"
  }
 },
 "nbformat": 4,
 "nbformat_minor": 2
}
