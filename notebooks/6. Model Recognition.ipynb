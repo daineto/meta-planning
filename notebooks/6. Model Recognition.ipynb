{
 "cells": [
  {
   "cell_type": "code",
   "execution_count": 1,
   "metadata": {},
   "outputs": [],
   "source": [
    "from meta_planning.parsers import parse_trajectory, parse_model\n",
    "from meta_planning import ModelRecognitionTask"
   ]
  },
  {
   "cell_type": "code",
   "execution_count": 2,
   "metadata": {},
   "outputs": [],
   "source": [
    "m1 = parse_model('../src/meta_planning/dataset/nondet-blocks-A/reference')\n",
    "m2 = parse_model('../src/meta_planning/dataset/nondet-blocks-B/reference')\n",
    "m3 = parse_model('../src/meta_planning/dataset/nondet-blocks-C/reference')\n",
    "\n",
    "M = [m1, m2, m3]\n",
    "priors = [0.25 for _ in M]"
   ]
  },
  {
   "cell_type": "code",
   "execution_count": 3,
   "metadata": {},
   "outputs": [],
   "source": [
    "t1 = parse_trajectory('../src/meta_planning/dataset/nondet-blocks-A/trajectory-00', M[0].predicates)\n",
    "trajectories = [t1]"
   ]
  },
  {
   "cell_type": "code",
   "execution_count": 4,
   "metadata": {
    "scrolled": true
   },
   "outputs": [],
   "source": [
    "O = [t.observe(1, action_observability = 0, keep_every_state=True) for t in trajectories]"
   ]
  },
  {
   "cell_type": "code",
   "execution_count": 5,
   "metadata": {},
   "outputs": [],
   "source": [
    "mr = ModelRecognitionTask(M, O, priors)"
   ]
  },
  {
   "cell_type": "code",
   "execution_count": 6,
   "metadata": {},
   "outputs": [
    {
     "name": "stdout",
     "output_type": "stream",
     "text": [
      "/home/dieaigar/PhD/meta-planning/src/meta_planning/util/planners/madagascar/M compiled_domain compiled_problem -S 1 -Q -o solution_plan -F 51 -T 53 > planner_out\n",
      "/home/dieaigar/PhD/meta-planning/src/meta_planning/util/planners/madagascar/M compiled_domain compiled_problem -S 1 -Q -o solution_plan -F 51 -T 53 > planner_out\n",
      "/home/dieaigar/PhD/meta-planning/src/meta_planning/util/planners/madagascar/M compiled_domain compiled_problem -S 1 -Q -o solution_plan -F 51 -T 53 > planner_out\n"
     ]
    }
   ],
   "source": [
    "mr_solution = mr.recognize()"
   ]
  },
  {
   "cell_type": "code",
   "execution_count": 7,
   "metadata": {},
   "outputs": [
    {
     "data": {
      "text/plain": [
       "[0.13720913506611204, 0.04496068937846808, 0.8178301755554198]"
      ]
     },
     "execution_count": 7,
     "metadata": {},
     "output_type": "execute_result"
    }
   ],
   "source": [
    "mr_solution.normalized_posteriors"
   ]
  }
 ],
 "metadata": {
  "kernelspec": {
   "display_name": "meta-planning",
   "language": "python",
   "name": "meta-planning"
  },
  "language_info": {
   "codemirror_mode": {
    "name": "ipython",
    "version": 3
   },
   "file_extension": ".py",
   "mimetype": "text/x-python",
   "name": "python",
   "nbconvert_exporter": "python",
   "pygments_lexer": "ipython3",
   "version": "3.6.3"
  }
 },
 "nbformat": 4,
 "nbformat_minor": 2
}
