{
 "cells": [
  {
   "cell_type": "code",
   "execution_count": 1,
   "metadata": {},
   "outputs": [],
   "source": [
    "from meta_planning.parsers import parse_trajectory, parse_model\n",
    "from meta_planning import ModelRecognitionTask"
   ]
  },
  {
   "cell_type": "code",
   "execution_count": 2,
   "metadata": {},
   "outputs": [],
   "source": [
    "m1 = parse_model('../src/meta_planning/dataset/nondet-blocks-A/reference')\n",
    "m2 = parse_model('../src/meta_planning/dataset/nondet-blocks-B/reference')\n",
    "m3 = parse_model('../src/meta_planning/dataset/nondet-blocks-C/reference')\n",
    "\n",
    "M = [m1, m2, m3]\n",
    "priors = [0.25 for _ in M]"
   ]
  },
  {
   "cell_type": "code",
   "execution_count": 3,
   "metadata": {},
   "outputs": [],
   "source": [
    "t1 = parse_trajectory('../src/meta_planning/dataset/nondet-blocks-C/trajectory-00', m1)\n",
    "trajectories = [t1]"
   ]
  },
  {
   "cell_type": "code",
   "execution_count": 4,
   "metadata": {
    "scrolled": true
   },
   "outputs": [],
   "source": [
    "O = [t.observe(1, action_observability = 0, keep_every_state=True) for t in trajectories]"
   ]
  },
  {
   "cell_type": "code",
   "execution_count": 5,
   "metadata": {},
   "outputs": [],
   "source": [
    "mr = ModelRecognitionTask(M, O, priors)"
   ]
  },
  {
   "cell_type": "code",
   "execution_count": 6,
   "metadata": {},
   "outputs": [
    {
     "name": "stdout",
     "output_type": "stream",
     "text": [
      "/home/dieaigar/PhD/meta-planning/src/meta_planning/util/planners/madagascar/M compiled_domain compiled_problem -S 1 -Q -o solution_plan -F 51 -P 0 > planner_out\n",
      "/home/dieaigar/PhD/meta-planning/src/meta_planning/util/planners/madagascar/M compiled_domain compiled_problem -S 1 -Q -o solution_plan -F 51 -P 0 > planner_out\n",
      "/home/dieaigar/PhD/meta-planning/src/meta_planning/util/planners/madagascar/M compiled_domain compiled_problem -S 1 -Q -o solution_plan -F 51 -P 0 > planner_out\n"
     ]
    }
   ],
   "source": [
    "mr_solution = mr.recognize()"
   ]
  },
  {
   "cell_type": "code",
   "execution_count": 7,
   "metadata": {},
   "outputs": [
    {
     "data": {
      "text/plain": [
       "[0.0015847862549428287, 0.007923930427294265, 0.9904912833177628]"
      ]
     },
     "execution_count": 7,
     "metadata": {},
     "output_type": "execute_result"
    }
   ],
   "source": [
    "mr_solution.normalized_posteriors"
   ]
  },
  {
   "cell_type": "code",
   "execution_count": 8,
   "metadata": {},
   "outputs": [
    {
     "name": "stdout",
     "output_type": "stream",
     "text": [
      "0 : (insert_eff_unstack_ontable_var1 )\n",
      "1 : (delete_pre_unstack_handempty )\n",
      "2 : (delete_eff_unstack_holding_var1 )\n",
      "3 : (delete_eff_unstack_clear_var1 )\n",
      "4 : (validate_0 )\n",
      "5 : (unstack c d)\n",
      "6 : (validate_1 )\n",
      "7 : (unstack d b)\n",
      "8 : (validate_2 )\n",
      "9 : (pick-up c)\n",
      "10 : (validate_3 )\n",
      "11 : (stack-ok c d)\n",
      "12 : (validate_4 )\n",
      "13 : (unstack b e)\n",
      "14 : (validate_5 )\n",
      "15 : (pick-up b)\n",
      "16 : (validate_6 )\n",
      "17 : (stack-ok b a)\n",
      "18 : (validate_7 )\n",
      "19 : (unstack c d)\n",
      "20 : (validate_8 )\n",
      "21 : (unstack e f)\n",
      "22 : (validate_9 )\n",
      "23 : (unstack b a)\n",
      "24 : (validate_10 )\n",
      "25 : (unstack a g)\n",
      "26 : (validate_11 )\n",
      "27 : (pick-up d)\n",
      "28 : (validate_12 )\n",
      "29 : (put-down d)\n",
      "30 : (validate_13 )\n",
      "31 : (pick-up d)\n",
      "32 : (validate_14 )\n",
      "33 : (stack-ok d f)\n",
      "34 : (validate_15 )\n",
      "35 : (pick-up e)\n",
      "36 : (validate_16 )\n",
      "37 : (stack-ok e b)\n",
      "38 : (validate_17 )\n",
      "39 : (unstack e b)\n",
      "40 : (validate_18 )\n",
      "41 : (unstack d f)\n",
      "42 : (validate_19 )\n",
      "43 : (pick-up e)\n",
      "44 : (validate_20 )\n",
      "45 : (stack-ok e f)\n",
      "46 : (validate_21 )\n",
      "47 : (unstack-ok e f)\n",
      "48 : (validate_22 )\n",
      "49 : (put-down e)\n",
      "50 : (validate_23 )\n",
      "51 : (pick-up g)\n",
      "52 : (validate_24 )\n",
      "53 : (stack-ok g b)\n",
      "54 : (validate_25 )\n",
      "\n"
     ]
    }
   ],
   "source": [
    "print(mr_solution.solutions[0].solution_plan)"
   ]
  }
 ],
 "metadata": {
  "kernelspec": {
   "display_name": "meta-planning",
   "language": "python",
   "name": "meta-planning"
  },
  "language_info": {
   "codemirror_mode": {
    "name": "ipython",
    "version": 3
   },
   "file_extension": ".py",
   "mimetype": "text/x-python",
   "name": "python",
   "nbconvert_exporter": "python",
   "pygments_lexer": "ipython3",
   "version": "3.6.3"
  }
 },
 "nbformat": 4,
 "nbformat_minor": 2
}
